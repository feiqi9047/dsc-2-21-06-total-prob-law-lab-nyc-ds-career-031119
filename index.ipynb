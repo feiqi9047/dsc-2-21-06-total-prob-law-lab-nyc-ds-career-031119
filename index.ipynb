{
 "cells": [
  {
   "cell_type": "markdown",
   "metadata": {},
   "source": [
    "# Partitioning and Law of Total Probabilities - Lab\n",
    "\n",
    "## Introduction \n",
    "In this lab, we shall look at the law of total probability. In probability theory, the law (or formula) of total probability is a fundamental rule relating **marginal probabilities** to conditional probabilities. It expresses the total probability of an outcome which can be realized via several distinct events, hence the name.\n",
    "\n",
    "## Objectives\n",
    "\n",
    "You will be able to:\n",
    "* Understand and explain the concept of event space and partitioning \n",
    "* State the law of total probabilities based on a partitioned event space\n",
    "* Understand and able to perform partitioning based on known and unknown probabilities to solve a problem"
   ]
  },
  {
   "cell_type": "markdown",
   "metadata": {},
   "source": [
    "## Exercise 1\n",
    "Suppose we have two hats: one has 4 red balls and 6 green balls, the other has 6 red and 4 green. We toss a fair coin, if heads, pick a random ball from the first hat, if tails from the second. \n",
    "\n",
    "What is the probability of getting a red ball?"
   ]
  },
  {
   "cell_type": "code",
   "execution_count": 4,
   "metadata": {},
   "outputs": [
    {
     "data": {
      "text/plain": [
       "0.5"
      ]
     },
     "execution_count": 4,
     "metadata": {},
     "output_type": "execute_result"
    }
   ],
   "source": [
    "# P(Red|Head)*P(Head) + P(Red|Tail)*P(Tail)\n",
    "\n",
    "P_red = (4/10)*0.5 + (6/10)*0.5\n",
    "P_red"
   ]
  },
  {
   "cell_type": "markdown",
   "metadata": {},
   "source": [
    "## Exercise 2\n",
    "A soccer team wins 60% of its games when it scores the first goal, and 10% of its games when the opposing team \n",
    "scores first. \n",
    "\n",
    "If the team scores the first goal about 30% of the time, what fraction of the games does it win?"
   ]
  },
  {
   "cell_type": "code",
   "execution_count": 7,
   "metadata": {},
   "outputs": [
    {
     "data": {
      "text/plain": [
       "0.25"
      ]
     },
     "execution_count": 7,
     "metadata": {},
     "output_type": "execute_result"
    }
   ],
   "source": [
    "# P(win|first goal)*P(first goal) + P(win|second goal)*P(second goal)\n",
    "\n",
    "P_win = 0.6*0.3 + 0.1*(1-0.3)\n",
    "P_win"
   ]
  },
  {
   "cell_type": "markdown",
   "metadata": {},
   "source": [
    "## Exercise 3"
   ]
  },
  {
   "cell_type": "markdown",
   "metadata": {},
   "source": [
    "In Europe, except for regular gas, cars regularly run on Diesel as well. At a gas station in Paris; \n",
    "\n",
    "\n",
    "* 40% of the customers fills up with Diesel (event G1) \n",
    "* 35% with gas \"Super 95\" (event G2)\n",
    "* 25% with gas \"Super 98\" (event G3). \n",
    "\n",
    "\n",
    "* 30% of the customers who buy Diesel fill their tank completely (event F). \n",
    "* For \"Super 95\" and \"Super 98\", these numbers are  60% and 50% respectively.\n",
    "\n",
    "\n",
    "- Compute the probability that the next customer completely fills their tank and buys Super 95. \n",
    "- Compute the probability that the next customer completely fills their tank\n",
    "- Given that the next customer fills their tank completely, compute the probability that they bought Diesel. \n",
    "\n",
    "Hint: Consult the theorems for conditional probability, check for dependence or independence of events"
   ]
  },
  {
   "cell_type": "code",
   "execution_count": 4,
   "metadata": {},
   "outputs": [
    {
     "name": "stdout",
     "output_type": "stream",
     "text": [
      "0.21\n",
      "0.45499999999999996\n"
     ]
    },
    {
     "data": {
      "text/plain": [
       "0.26373626373626374"
      ]
     },
     "execution_count": 4,
     "metadata": {},
     "output_type": "execute_result"
    }
   ],
   "source": [
    "# probability of full tank and super 95\n",
    "# P(full)*P(super95)\n",
    "\n",
    "P_full_super95 = 0.6*0.35\n",
    "print(P_full_super95)\n",
    "\n",
    "\n",
    "# probability of full tank\n",
    "# P(full|diesel)*P(diesel) + P(full|super95)*P(super95) + P(full|super98)*P(super98)\n",
    "P_full = 0.4*0.3 + 0.35*0.6 + 0.25*0.5\n",
    "print(P_full)\n",
    "\n",
    "\n",
    "# probability of diesel given tank full\n",
    "# P(diesel|full)  = P(full|diesel)*P(diesel) / (P(full)\n",
    "P_diesel_full = 0.4*0.3 / P_full\n",
    "P_diesel_full"
   ]
  },
  {
   "cell_type": "markdown",
   "metadata": {},
   "source": [
    "## Exercise 4"
   ]
  },
  {
   "cell_type": "markdown",
   "metadata": {},
   "source": [
    "United airlines operates flights from JFK to Amsterdam, to Brussels and to Copenhagen. As you might know, flights are overbooked fairly often. Let's denote the probability of the flight to Amsterdam being overbooked equal to 40%, the probability of the flight to Brussels being overbooked equal to 25%, and the probability of the flight to Copenhagen to be overbooked being equal to 35%. "
   ]
  },
  {
   "cell_type": "markdown",
   "metadata": {},
   "source": [
    "- Compute the probability that all the flights are overbooked.\n",
    "- Compute the probability of having at least one flight which is not overbooked.\n",
    "- Compute the probability that exactly one flight is overbooked.\n",
    "\n",
    "Hint: Consult the theorems for conditional probability, check for dependence or independence of events"
   ]
  },
  {
   "cell_type": "code",
   "execution_count": 9,
   "metadata": {},
   "outputs": [
    {
     "name": "stdout",
     "output_type": "stream",
     "text": [
      "0.034999999999999996\n",
      "0.965\n",
      "0.45\n"
     ]
    }
   ],
   "source": [
    "# P(Ams overbook) = 0.4\n",
    "# P(Bru overbook) = 0.25\n",
    "# P(Cop overbook) = 0.35\n",
    "\n",
    "# probability all flights overbooked\n",
    "# P(all overbook) = P(Ams overbook) * P(Bru overbook) * P(Cop overbook)\n",
    "P_all_overbook = 0.4 * 0.25 * 0.35\n",
    "print(P_all_overbook)\n",
    "\n",
    "\n",
    "# probability at least one flight not overbooked\n",
    "# P(not all overbooked) =  1 - P(overbook)\n",
    "P_notall_overbook = 1 - P_all_overbook\n",
    "print(P_notall_overbook)\n",
    "\n",
    "\n",
    "# probability just one flight not overbooked\n",
    "# P(just one) = P(only Ams) + P(only Bru) + P(only Cop)\n",
    "P_onlyAMS = 0.4 * (1-0.25) * (1-0.35)\n",
    "P_onlyBRU = (1-0.4) * 0.25 * (1-0.35)\n",
    "P_onlyCOP = (1-0.4) * (1-0.25) * 0.35\n",
    "P_justone = P_onlyAMS + P_onlyBRU + P_onlyCOP\n",
    "print(P_justone)"
   ]
  },
  {
   "cell_type": "markdown",
   "metadata": {},
   "source": [
    "## Exercise 5\n",
    "You have three bags that each contain 100 marbles:\n",
    "\n",
    "- Bag 1 has 75 red and 25 blue marbles;\n",
    "- Bag 2 has 60 red and 40 blue marbles;\n",
    "- Bag 3 has 45 red and 55 blue marbles.\n",
    "\n",
    "You choose one of the bags at random and then pick a marble from the chosen bag, also at random. \n",
    "\n",
    "What is the probability that the chosen marble is red?\n"
   ]
  },
  {
   "cell_type": "code",
   "execution_count": 12,
   "metadata": {},
   "outputs": [
    {
     "data": {
      "text/plain": [
       "0.6"
      ]
     },
     "execution_count": 12,
     "metadata": {},
     "output_type": "execute_result"
    }
   ],
   "source": [
    "# probability marble is red\n",
    "# P(red) = P(red|bag1)*P(bag1) + P(red|bag2)*P(bag2) + P(red|bag3)*P(bag3)\n",
    "\n",
    "P_red_bag1 = 75/100\n",
    "P_red_bag2 = 60/100\n",
    "P_red_bag3 = 45/100\n",
    "\n",
    "P_bag1 = 1/3\n",
    "P_bag2 = 1/3\n",
    "P_bag3 = 1/3\n",
    "\n",
    "P_red = P_red_bag1*P_bag1 + P_red_bag2*P_bag2 + P_red_bag3*P_bag3\n",
    "P_red"
   ]
  },
  {
   "cell_type": "markdown",
   "metadata": {},
   "source": [
    "## Summary \n",
    "\n",
    "In this lab we practiced around conditional probability and its theorem with some simple problems. The key takeaway from this lab is to to be able to identify random events as dependent or independent and calculating the probability of their occurrence using appropriate methods. Next we'll start focusing on the Bayes theorem, building on the knowledge we have thus far. "
   ]
  }
 ],
 "metadata": {
  "kernelspec": {
   "display_name": "Python 3",
   "language": "python",
   "name": "python3"
  },
  "language_info": {
   "codemirror_mode": {
    "name": "ipython",
    "version": 3
   },
   "file_extension": ".py",
   "mimetype": "text/x-python",
   "name": "python",
   "nbconvert_exporter": "python",
   "pygments_lexer": "ipython3",
   "version": "3.6.6"
  }
 },
 "nbformat": 4,
 "nbformat_minor": 2
}
